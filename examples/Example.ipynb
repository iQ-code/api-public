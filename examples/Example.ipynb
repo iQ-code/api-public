{
 "cells": [
  {
   "cell_type": "markdown",
   "id": "7e2037fa-cd66-4ff5-bc52-0845cf0c7ee2",
   "metadata": {
    "tags": []
   },
   "source": [
    "# Example call to Inspiration-Q's API"
   ]
  },
  {
   "cell_type": "code",
   "execution_count": null,
   "id": "03f7f2c9",
   "metadata": {},
   "outputs": [],
   "source": [
    "# Import the library that lays above this directory\n",
    "import sys\n",
    "if \"../\" not in sys.path:\n",
    "    sys.path.append(\"../\")"
   ]
  },
  {
   "cell_type": "code",
   "execution_count": null,
   "id": "f549eade-980e-4c72-8a29-51f9f48b5886",
   "metadata": {},
   "outputs": [],
   "source": [
    "import inspirationq.api.aws\n",
    "import inspirationq.api.bare\n",
    "import inspirationq.api.rapidapi\n",
    "from inspirationq.hello import *\n",
    "from inspirationq.qubo import *"
   ]
  },
  {
   "cell_type": "markdown",
   "id": "95474a8c",
   "metadata": {},
   "source": [
    "We assume that you have a file with the username, password and, optionally, the url of the API, in TOML format. Something like\n",
    "```toml\n",
    "[aws]\n",
    "username = \"iqtest-raw\"\n",
    "password = \"asdfasdfd212312312\"\n",
    "base_url = \"https://xxxxx.execute-api.us-east-1.amazonaws.com/prod/\"\n",
    "region_name = \"us-east-1\"\n",
    "```\n",
    "This file should be stored under `%USERPROFILE%\\.iq_config.toml` in Windows and under `~/.iq_config.toml` in Linux, it can be stored in the same directory as the notebook. The file is read and the configuration for the AWS API is initiated by the following call:"
   ]
  },
  {
   "cell_type": "code",
   "execution_count": null,
   "id": "4c382ab5",
   "metadata": {},
   "outputs": [],
   "source": [
    "credentials = inspirationq.api.aws.aws_credentials()"
   ]
  },
  {
   "cell_type": "markdown",
   "id": "21b1d2a9-4245-4fcd-ab40-d341b23bc71e",
   "metadata": {},
   "source": [
    "If you wish to enter the credentials by hand, you could also do it\n",
    "```python\n",
    "credentials = inspirationq.api.aws.aws_credentials(username=\"iqtest-raw\", password=\"asdfasdfd212312312\")\n",
    "```"
   ]
  },
  {
   "cell_type": "markdown",
   "id": "b4c535a2-c556-4244-a0bb-01e521bbd005",
   "metadata": {},
   "source": [
    "Uncomment the following line if you want all calls to result in debugging information:"
   ]
  },
  {
   "cell_type": "code",
   "execution_count": null,
   "id": "172e5afb-59c5-48b9-87eb-09066559752d",
   "metadata": {},
   "outputs": [],
   "source": [
    "#credentials.debug=True"
   ]
  },
  {
   "cell_type": "markdown",
   "id": "517a3593-566a-4901-91bc-9a657356f33f",
   "metadata": {},
   "source": [
    "Make sure that we can talk to the API"
   ]
  },
  {
   "cell_type": "code",
   "execution_count": null,
   "id": "f1793271-757f-4c2f-a478-eb0e7f8b8c8d",
   "metadata": {},
   "outputs": [],
   "source": [
    "hello(credentials)"
   ]
  },
  {
   "cell_type": "code",
   "execution_count": null,
   "id": "80a2883f",
   "metadata": {},
   "outputs": [],
   "source": [
    "hello_wait(credentials)"
   ]
  },
  {
   "cell_type": "markdown",
   "id": "87acdfc6-3fec-42ff-aea0-5f704d925329",
   "metadata": {},
   "source": [
    "Solve some simple QUBO problems"
   ]
  },
  {
   "cell_type": "code",
   "execution_count": null,
   "id": "ce11b128-7bde-4985-8c6f-e7bcb40a2db9",
   "metadata": {},
   "outputs": [],
   "source": [
    "qubo_matrix=[[-1.1862747 , -1.33966352, -0.799173  , -0.30371786, -1.06716667],\n",
    "               [ 0.27163685,  0.01154042,  1.20142854, -0.67152634, -0.66826547],\n",
    "               [-0.9741588 ,  0.61238067, -0.61910671, -0.30361025, -0.59209107],\n",
    "               [ 1.06261132,  0.56004426, -1.38704608,  0.19227292,  0.17030463],\n",
    "               [-0.91802828, -1.00294634, -0.89361172,  0.75907711,  0.08285256]]\n"
   ]
  },
  {
   "cell_type": "markdown",
   "id": "c51089f5-7fc4-4b09-a836-74c172675895",
   "metadata": {},
   "source": [
    "Brute force solver, limited to a small number of qubits. Gives always one valid instance."
   ]
  },
  {
   "cell_type": "code",
   "execution_count": null,
   "id": "70df3c60-848b-4ab5-b173-1a1233f263c8",
   "metadata": {},
   "outputs": [],
   "source": [
    "solve_QUBO_bf(qubo_matrix, credentials=credentials)"
   ]
  },
  {
   "cell_type": "markdown",
   "id": "7b42f6b2-2736-4cc1-9ee0-67780420b319",
   "metadata": {},
   "source": [
    "Stoquastic solver, gives a good approximation to the best solution."
   ]
  },
  {
   "cell_type": "code",
   "execution_count": null,
   "id": "2b563849-7b2a-47eb-9028-532bbc966f1c",
   "metadata": {},
   "outputs": [],
   "source": [
    "solve_QUBO_mc(qubo_matrix, shots=400, credentials=credentials)"
   ]
  }
 ],
 "metadata": {
  "kernelspec": {
   "display_name": "Python 3 (ipykernel)",
   "language": "python",
   "name": "python3"
  },
  "language_info": {
   "codemirror_mode": {
    "name": "ipython",
    "version": 3
   },
   "file_extension": ".py",
   "mimetype": "text/x-python",
   "name": "python",
   "nbconvert_exporter": "python",
   "pygments_lexer": "ipython3",
   "version": "3.9.16"
  }
 },
 "nbformat": 4,
 "nbformat_minor": 5
}
