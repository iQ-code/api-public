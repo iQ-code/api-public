{
 "cells": [
  {
   "cell_type": "markdown",
   "id": "7e2037fa-cd66-4ff5-bc52-0845cf0c7ee2",
   "metadata": {
    "tags": []
   },
   "source": [
    "# Example call to Inspiration-Q's API"
   ]
  },
  {
   "cell_type": "code",
   "execution_count": null,
   "id": "f549eade-980e-4c72-8a29-51f9f48b5886",
   "metadata": {},
   "outputs": [],
   "source": [
    "import inspirationq.api.aws\n",
    "import inspirationq.api.bare\n",
    "import inspirationq.api.rapidapi\n",
    "from inspirationq.hello import *\n",
    "from inspirationq.qubo import *"
   ]
  },
  {
   "cell_type": "markdown",
   "id": "21b1d2a9-4245-4fcd-ab40-d341b23bc71e",
   "metadata": {},
   "source": [
    "In some cases, you may have received a local instance that works in your cluster or computer, with a custom URL."
   ]
  },
  {
   "cell_type": "code",
   "execution_count": null,
   "id": "89e2d9e1-b2cb-4c8e-9b9f-81ae70143e7d",
   "metadata": {},
   "outputs": [],
   "source": [
    "credentials = inspirationq.api.aws.sam_credentials(\"inspirationq\", \"some_password\",\n",
    "                                                   base_url='http://127.0.0.1:3000/')"
   ]
  },
  {
   "cell_type": "markdown",
   "id": "c609cf84-22a4-4863-b599-63853e7910f0",
   "metadata": {},
   "source": [
    "One alternative is that you can use a locally installed copy of Inspiration-Q's API with a fixed URL and no authentication"
   ]
  },
  {
   "cell_type": "code",
   "execution_count": null,
   "id": "e35d3de5-f61b-409a-940e-d5068cddbd65",
   "metadata": {},
   "outputs": [],
   "source": [
    "credentials = inspirationq.api.bare.bare_credentials(\"http://127.0.0.1:3000/\")"
   ]
  },
  {
   "cell_type": "markdown",
   "id": "3780d594-ecc2-40ff-acd5-ef9c7eb14400",
   "metadata": {},
   "source": [
    "Another alternative is to use the [RapidAPI entry point](https://rapidapi.com/inspiration-q-inspiration-q-default/api/inspiration-q). Here you have to provide Rakuten's RapidAPI developer key."
   ]
  },
  {
   "cell_type": "code",
   "execution_count": null,
   "id": "897fb562-386e-4c89-807e-1932b8f9d432",
   "metadata": {},
   "outputs": [],
   "source": [
    "credentials = inspirationq.api.rapidapi.rapidapi_credentials(\"some_key\")"
   ]
  },
  {
   "cell_type": "markdown",
   "id": "e8a86184-20bc-4afb-a10e-057471503534",
   "metadata": {},
   "source": [
    "However, the standard way to consume our API is via AWS or RapidAPI"
   ]
  },
  {
   "cell_type": "code",
   "execution_count": null,
   "id": "ae67539b-624a-4d67-b5f4-25f2ac48b7ef",
   "metadata": {},
   "outputs": [],
   "source": [
    "credentials = inspirationq.api.aws.aws_credentials(\"inspirationq\", \"some_password\")"
   ]
  },
  {
   "cell_type": "markdown",
   "id": "b4c535a2-c556-4244-a0bb-01e521bbd005",
   "metadata": {},
   "source": [
    "Uncomment the following line if you want all calls to result in debugging information:"
   ]
  },
  {
   "cell_type": "code",
   "execution_count": null,
   "id": "172e5afb-59c5-48b9-87eb-09066559752d",
   "metadata": {},
   "outputs": [],
   "source": [
    "#credentials.debug=True"
   ]
  },
  {
   "cell_type": "markdown",
   "id": "517a3593-566a-4901-91bc-9a657356f33f",
   "metadata": {},
   "source": [
    "Make sure that we can talk to the API"
   ]
  },
  {
   "cell_type": "code",
   "execution_count": null,
   "id": "f1793271-757f-4c2f-a478-eb0e7f8b8c8d",
   "metadata": {},
   "outputs": [],
   "source": [
    "hello(credentials)"
   ]
  },
  {
   "cell_type": "markdown",
   "id": "87acdfc6-3fec-42ff-aea0-5f704d925329",
   "metadata": {},
   "source": [
    "Solve some simple QUBO problems"
   ]
  },
  {
   "cell_type": "code",
   "execution_count": null,
   "id": "ce11b128-7bde-4985-8c6f-e7bcb40a2db9",
   "metadata": {},
   "outputs": [],
   "source": [
    "qubo_matrix=[[-1.1862747 , -1.33966352, -0.799173  , -0.30371786, -1.06716667],\n",
    "               [ 0.27163685,  0.01154042,  1.20142854, -0.67152634, -0.66826547],\n",
    "               [-0.9741588 ,  0.61238067, -0.61910671, -0.30361025, -0.59209107],\n",
    "               [ 1.06261132,  0.56004426, -1.38704608,  0.19227292,  0.17030463],\n",
    "               [-0.91802828, -1.00294634, -0.89361172,  0.75907711,  0.08285256]]\n"
   ]
  },
  {
   "cell_type": "markdown",
   "id": "c51089f5-7fc4-4b09-a836-74c172675895",
   "metadata": {},
   "source": [
    "Brute force solver, limited to a small number of qubits. Gives always one valid instance."
   ]
  },
  {
   "cell_type": "code",
   "execution_count": null,
   "id": "70df3c60-848b-4ab5-b173-1a1233f263c8",
   "metadata": {},
   "outputs": [],
   "source": [
    "solve_QUBO_bf(qubo_matrix, credentials=credentials)"
   ]
  },
  {
   "cell_type": "markdown",
   "id": "7b42f6b2-2736-4cc1-9ee0-67780420b319",
   "metadata": {},
   "source": [
    "Stoquastic solver, gives a good approximation to the best solution."
   ]
  },
  {
   "cell_type": "code",
   "execution_count": null,
   "id": "2b563849-7b2a-47eb-9028-532bbc966f1c",
   "metadata": {},
   "outputs": [],
   "source": [
    "solve_QUBO_mc(qubo_matrix, shots=400, credentials=credentials)"
   ]
  }
 ],
 "metadata": {
  "kernelspec": {
   "display_name": "Python 3 (ipykernel)",
   "language": "python",
   "name": "python3"
  },
  "language_info": {
   "codemirror_mode": {
    "name": "ipython",
    "version": 3
   },
   "file_extension": ".py",
   "mimetype": "text/x-python",
   "name": "python",
   "nbconvert_exporter": "python",
   "pygments_lexer": "ipython3",
   "version": "3.9.7"
  }
 },
 "nbformat": 4,
 "nbformat_minor": 5
}
